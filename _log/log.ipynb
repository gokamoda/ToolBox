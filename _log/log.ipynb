{
 "cells": [
  {
   "cell_type": "code",
   "execution_count": 31,
   "metadata": {},
   "outputs": [],
   "source": [
    "import os\n",
    "import sys\n",
    "import logging\n",
    "\n",
    "def init_logging(logger_name: str, log_dir:str, filename = \"info.log\") -> logging.Logger:\n",
    "    '''\n",
    "    logging levels:\n",
    "        DEBUG\n",
    "        INFO\n",
    "        WARNING\n",
    "        ERROR\n",
    "        CRITICAL\n",
    "    \n",
    "    output INFO, WARNING, ERROR, CRITICAL to console\n",
    "    output ALL to file\n",
    "    '''\n",
    "    logger = logging.getLogger(logger_name)\n",
    "    logger.setLevel(logging.DEBUG)\n",
    "\n",
    "    if logger.handlers == []:\n",
    "\n",
    "        os.makedirs(log_dir, exist_ok=True)\n",
    "\n",
    "        formatter = logging.Formatter(\n",
    "            \"%(asctime)s - %(name)s - %(levelname)s - %(message)s \\n\"\n",
    "        )\n",
    "\n",
    "        # file handler\n",
    "        fh = logging.FileHandler(str(log_dir) + \"/\" + filename)\n",
    "        fh.setLevel(logging.DEBUG)\n",
    "        fh.setFormatter(formatter)\n",
    "\n",
    "        # console handler\n",
    "        ch = logging.StreamHandler(sys.stdout)\n",
    "        ch.setLevel(logging.INFO)\n",
    "        ch.setFormatter(formatter)\n",
    "\n",
    "        logger.addHandler(fh)\n",
    "        logger.addHandler(ch)\n",
    "\n",
    "        logger.propagate = False\n",
    "\n",
    "    return logger"
   ]
  },
  {
   "cell_type": "code",
   "execution_count": 30,
   "metadata": {},
   "outputs": [
    {
     "name": "stdout",
     "output_type": "stream",
     "text": [
      "2023-03-02 10:58:09,000 - __main__ - WARNING - test_warning\n",
      "2023-03-02 10:58:09,005 - __main__ - ERROR - test_error\n",
      "2023-03-02 10:58:09,010 - __main__ - CRITICAL - test_critical\n",
      "[<StreamHandler stdout (WARNING)>]\n",
      "[<StreamHandler stdout (WARNING)>]\n"
     ]
    }
   ],
   "source": [
    "logger = init_logging(logger_name=__name__, log_dir=\".\", filename=\"main.log\")\n",
    "logger.debug(\"test_debug\")\n",
    "logger.info(\"test_info\")\n",
    "logger.warning(\"test_warning\")\n",
    "logger.error(\"test_error\")\n",
    "logger.critical(\"test_critical\")\n",
    "print(logger.handlers)\n",
    "\n",
    "logger.handlers[0].close()\n",
    "print(logger.handlers)\n"
   ]
  }
 ],
 "metadata": {
  "kernelspec": {
   "display_name": ".venv",
   "language": "python",
   "name": "python3"
  },
  "language_info": {
   "codemirror_mode": {
    "name": "ipython",
    "version": 3
   },
   "file_extension": ".py",
   "mimetype": "text/x-python",
   "name": "python",
   "nbconvert_exporter": "python",
   "pygments_lexer": "ipython3",
   "version": "3.9.15"
  },
  "orig_nbformat": 4,
  "vscode": {
   "interpreter": {
    "hash": "19f5670be446a8f8c7c639c4f7fa3300c51239aca51770266af8e822dad553d1"
   }
  }
 },
 "nbformat": 4,
 "nbformat_minor": 2
}
